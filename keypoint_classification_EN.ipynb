{
 "cells": [
  {
   "cell_type": "code",
   "execution_count": 1,
   "metadata": {
    "id": "igMyGnjE9hEp"
   },
   "outputs": [],
   "source": [
    "import csv\n",
    "\n",
    "import numpy as np\n",
    "import tensorflow as tf\n",
    "from sklearn.model_selection import train_test_split\n",
    "\n",
    "RANDOM_SEED = 42"
   ]
  },
  {
   "cell_type": "markdown",
   "metadata": {
    "id": "t2HDvhIu9hEr"
   },
   "source": [
    "# Specify each path"
   ]
  },
  {
   "cell_type": "code",
   "execution_count": 2,
   "metadata": {
    "id": "9NvZP2Zn9hEy"
   },
   "outputs": [],
   "source": [
    "dataset = 'model/keypoint_classifier/keypoint.csv'\n",
    "model_save_path = 'model/keypoint_classifier/keypoint_classifier.hdf5'\n",
    "tflite_save_path = 'model/keypoint_classifier/keypoint_classifier.tflite'"
   ]
  },
  {
   "cell_type": "markdown",
   "metadata": {
    "id": "s5oMH7x19hEz"
   },
   "source": [
    "# Set number of classes"
   ]
  },
  {
   "cell_type": "code",
   "execution_count": 3,
   "metadata": {
    "id": "du4kodXL9hEz"
   },
   "outputs": [],
   "source": [
    "NUM_CLASSES = 8"
   ]
  },
  {
   "cell_type": "markdown",
   "metadata": {
    "id": "XjnL0uso9hEz"
   },
   "source": [
    "# Dataset reading"
   ]
  },
  {
   "cell_type": "code",
   "execution_count": 4,
   "metadata": {
    "id": "QT5ZqtEz9hE0"
   },
   "outputs": [],
   "source": [
    "X_dataset = np.loadtxt(dataset, delimiter=',', dtype='float32', usecols=list(range(1, (21 * 2) + 1)))"
   ]
  },
  {
   "cell_type": "code",
   "execution_count": 5,
   "metadata": {
    "id": "QmoKFsp49hE0"
   },
   "outputs": [],
   "source": [
    "y_dataset = np.loadtxt(dataset, delimiter=',', dtype='int32', usecols=(0))"
   ]
  },
  {
   "cell_type": "code",
   "execution_count": 6,
   "metadata": {
    "id": "xQU7JTZ_9hE0"
   },
   "outputs": [],
   "source": [
    "X_train, X_test, y_train, y_test = train_test_split(X_dataset, y_dataset, train_size=0.75, random_state=RANDOM_SEED)"
   ]
  },
  {
   "cell_type": "markdown",
   "metadata": {
    "id": "mxK_lETT9hE0"
   },
   "source": [
    "# Model building"
   ]
  },
  {
   "cell_type": "code",
   "execution_count": 7,
   "metadata": {
    "id": "vHBmUf1t9hE1"
   },
   "outputs": [],
   "source": [
    "model = tf.keras.models.Sequential([\n",
    "    tf.keras.layers.Input((21 * 2, )),\n",
    "    tf.keras.layers.Dropout(0.2),\n",
    "    tf.keras.layers.Dense(20, activation='relu'),\n",
    "    tf.keras.layers.Dropout(0.4),\n",
    "    tf.keras.layers.Dense(10, activation='relu'),\n",
    "    tf.keras.layers.Dense(NUM_CLASSES, activation='softmax')\n",
    "])"
   ]
  },
  {
   "cell_type": "code",
   "execution_count": 8,
   "metadata": {
    "colab": {
     "base_uri": "https://localhost:8080/"
    },
    "id": "ypqky9tc9hE1",
    "outputId": "5db082bb-30e3-4110-bf63-a1ee777ecd46"
   },
   "outputs": [
    {
     "name": "stdout",
     "output_type": "stream",
     "text": [
      "Model: \"sequential\"\n",
      "_________________________________________________________________\n",
      " Layer (type)                Output Shape              Param #   \n",
      "=================================================================\n",
      " dropout (Dropout)           (None, 42)                0         \n",
      "                                                                 \n",
      " dense (Dense)               (None, 20)                860       \n",
      "                                                                 \n",
      " dropout_1 (Dropout)         (None, 20)                0         \n",
      "                                                                 \n",
      " dense_1 (Dense)             (None, 10)                210       \n",
      "                                                                 \n",
      " dense_2 (Dense)             (None, 8)                 88        \n",
      "                                                                 \n",
      "=================================================================\n",
      "Total params: 1,158\n",
      "Trainable params: 1,158\n",
      "Non-trainable params: 0\n",
      "_________________________________________________________________\n"
     ]
    }
   ],
   "source": [
    "model.summary()  # tf.keras.utils.plot_model(model, show_shapes=True)"
   ]
  },
  {
   "cell_type": "code",
   "execution_count": 9,
   "metadata": {
    "id": "MbMjOflQ9hE1"
   },
   "outputs": [],
   "source": [
    "# Model checkpoint callback\n",
    "cp_callback = tf.keras.callbacks.ModelCheckpoint(\n",
    "    model_save_path, verbose=1, save_weights_only=False)\n",
    "# Callback for early stopping\n",
    "es_callback = tf.keras.callbacks.EarlyStopping(patience=20, verbose=1)"
   ]
  },
  {
   "cell_type": "code",
   "execution_count": 10,
   "metadata": {
    "id": "c3Dac0M_9hE2"
   },
   "outputs": [],
   "source": [
    "# Model compilation\n",
    "model.compile(\n",
    "    optimizer='adam',\n",
    "    loss='sparse_categorical_crossentropy',\n",
    "    metrics=['accuracy']\n",
    ")"
   ]
  },
  {
   "cell_type": "markdown",
   "metadata": {
    "id": "7XI0j1Iu9hE2"
   },
   "source": [
    "# Model training"
   ]
  },
  {
   "cell_type": "code",
   "execution_count": null,
   "metadata": {
    "colab": {
     "base_uri": "https://localhost:8080/"
    },
    "id": "WirBl-JE9hE3",
    "outputId": "71b30ca2-8294-4d9d-8aa2-800d90d399de",
    "scrolled": true
   },
   "outputs": [
    {
     "name": "stdout",
     "output_type": "stream",
     "text": [
      "Epoch 1/1000\n",
      "1/3 [=========>....................] - ETA: 2s - loss: 2.2356 - accuracy: 0.0547\n",
      "Epoch 1: saving model to model/keypoint_classifier\\keypoint_classifier.hdf5\n",
      "3/3 [==============================] - 2s 267ms/step - loss: 2.2073 - accuracy: 0.0767 - val_loss: 2.1104 - val_accuracy: 0.0738\n",
      "Epoch 2/1000\n",
      "1/3 [=========>....................] - ETA: 0s - loss: 2.1895 - accuracy: 0.1406\n",
      "Epoch 2: saving model to model/keypoint_classifier\\keypoint_classifier.hdf5\n",
      "3/3 [==============================] - 0s 53ms/step - loss: 2.1860 - accuracy: 0.0932 - val_loss: 2.0898 - val_accuracy: 0.1393\n",
      "Epoch 3/1000\n",
      "1/3 [=========>....................] - ETA: 0s - loss: 2.1680 - accuracy: 0.0391\n",
      "Epoch 3: saving model to model/keypoint_classifier\\keypoint_classifier.hdf5\n",
      "3/3 [==============================] - 0s 54ms/step - loss: 2.1529 - accuracy: 0.0658 - val_loss: 2.0718 - val_accuracy: 0.1721\n",
      "Epoch 4/1000\n",
      "1/3 [=========>....................] - ETA: 0s - loss: 2.1589 - accuracy: 0.1016\n",
      "Epoch 4: saving model to model/keypoint_classifier\\keypoint_classifier.hdf5\n",
      "3/3 [==============================] - 0s 60ms/step - loss: 2.1445 - accuracy: 0.1014 - val_loss: 2.0549 - val_accuracy: 0.2295\n",
      "Epoch 5/1000\n",
      "1/3 [=========>....................] - ETA: 0s - loss: 2.0816 - accuracy: 0.1641\n",
      "Epoch 5: saving model to model/keypoint_classifier\\keypoint_classifier.hdf5\n",
      "3/3 [==============================] - 0s 53ms/step - loss: 2.1120 - accuracy: 0.1315 - val_loss: 2.0392 - val_accuracy: 0.3361\n",
      "Epoch 6/1000\n",
      "1/3 [=========>....................] - ETA: 0s - loss: 2.0897 - accuracy: 0.1094\n",
      "Epoch 6: saving model to model/keypoint_classifier\\keypoint_classifier.hdf5\n",
      "3/3 [==============================] - 0s 50ms/step - loss: 2.0796 - accuracy: 0.1151 - val_loss: 2.0245 - val_accuracy: 0.3361\n",
      "Epoch 7/1000\n",
      "1/3 [=========>....................] - ETA: 0s - loss: 2.0505 - accuracy: 0.1953\n",
      "Epoch 7: saving model to model/keypoint_classifier\\keypoint_classifier.hdf5\n",
      "3/3 [==============================] - 0s 53ms/step - loss: 2.0816 - accuracy: 0.1699 - val_loss: 2.0103 - val_accuracy: 0.3197\n",
      "Epoch 8/1000\n",
      "1/3 [=========>....................] - ETA: 0s - loss: 2.0644 - accuracy: 0.1641\n",
      "Epoch 8: saving model to model/keypoint_classifier\\keypoint_classifier.hdf5\n",
      "3/3 [==============================] - 0s 50ms/step - loss: 2.0467 - accuracy: 0.1644 - val_loss: 1.9962 - val_accuracy: 0.3115\n",
      "Epoch 9/1000\n",
      "1/3 [=========>....................] - ETA: 0s - loss: 2.0471 - accuracy: 0.2031\n",
      "Epoch 9: saving model to model/keypoint_classifier\\keypoint_classifier.hdf5\n",
      "3/3 [==============================] - 0s 51ms/step - loss: 2.0429 - accuracy: 0.1781 - val_loss: 1.9819 - val_accuracy: 0.3770\n",
      "Epoch 10/1000\n",
      "1/3 [=========>....................] - ETA: 0s - loss: 2.0406 - accuracy: 0.2188\n",
      "Epoch 10: saving model to model/keypoint_classifier\\keypoint_classifier.hdf5\n",
      "3/3 [==============================] - 0s 49ms/step - loss: 2.0399 - accuracy: 0.1973 - val_loss: 1.9682 - val_accuracy: 0.3770\n",
      "Epoch 11/1000\n",
      "1/3 [=========>....................] - ETA: 0s - loss: 2.0441 - accuracy: 0.1797\n",
      "Epoch 11: saving model to model/keypoint_classifier\\keypoint_classifier.hdf5\n",
      "3/3 [==============================] - 0s 46ms/step - loss: 2.0288 - accuracy: 0.1671 - val_loss: 1.9554 - val_accuracy: 0.3689\n",
      "Epoch 12/1000\n",
      "1/3 [=========>....................] - ETA: 0s - loss: 2.0070 - accuracy: 0.2188\n",
      "Epoch 12: saving model to model/keypoint_classifier\\keypoint_classifier.hdf5\n",
      "3/3 [==============================] - 0s 53ms/step - loss: 2.0000 - accuracy: 0.2274 - val_loss: 1.9426 - val_accuracy: 0.3689\n",
      "Epoch 13/1000\n",
      "1/3 [=========>....................] - ETA: 0s - loss: 1.9782 - accuracy: 0.2500\n",
      "Epoch 13: saving model to model/keypoint_classifier\\keypoint_classifier.hdf5\n",
      "3/3 [==============================] - 0s 52ms/step - loss: 1.9884 - accuracy: 0.2137 - val_loss: 1.9291 - val_accuracy: 0.3443\n",
      "Epoch 14/1000\n",
      "1/3 [=========>....................] - ETA: 0s - loss: 1.9775 - accuracy: 0.2188\n",
      "Epoch 14: saving model to model/keypoint_classifier\\keypoint_classifier.hdf5\n",
      "3/3 [==============================] - 0s 48ms/step - loss: 1.9815 - accuracy: 0.2329 - val_loss: 1.9153 - val_accuracy: 0.3525\n",
      "Epoch 15/1000\n",
      "1/3 [=========>....................] - ETA: 0s - loss: 1.9632 - accuracy: 0.2578\n",
      "Epoch 15: saving model to model/keypoint_classifier\\keypoint_classifier.hdf5\n",
      "3/3 [==============================] - 0s 55ms/step - loss: 1.9626 - accuracy: 0.2521 - val_loss: 1.9008 - val_accuracy: 0.3852\n",
      "Epoch 16/1000\n",
      "1/3 [=========>....................] - ETA: 0s - loss: 1.9233 - accuracy: 0.2578\n",
      "Epoch 16: saving model to model/keypoint_classifier\\keypoint_classifier.hdf5\n",
      "3/3 [==============================] - 0s 47ms/step - loss: 1.9115 - accuracy: 0.2877 - val_loss: 1.8860 - val_accuracy: 0.4098\n",
      "Epoch 17/1000\n",
      "1/3 [=========>....................] - ETA: 0s - loss: 1.9566 - accuracy: 0.1953\n",
      "Epoch 17: saving model to model/keypoint_classifier\\keypoint_classifier.hdf5\n",
      "3/3 [==============================] - 0s 49ms/step - loss: 1.9286 - accuracy: 0.2548 - val_loss: 1.8711 - val_accuracy: 0.4344\n",
      "Epoch 18/1000\n",
      "1/3 [=========>....................] - ETA: 0s - loss: 1.9332 - accuracy: 0.2188\n",
      "Epoch 18: saving model to model/keypoint_classifier\\keypoint_classifier.hdf5\n",
      "3/3 [==============================] - 0s 55ms/step - loss: 1.9008 - accuracy: 0.2658 - val_loss: 1.8559 - val_accuracy: 0.4508\n",
      "Epoch 19/1000\n",
      "1/3 [=========>....................] - ETA: 0s - loss: 1.8455 - accuracy: 0.3203\n",
      "Epoch 19: saving model to model/keypoint_classifier\\keypoint_classifier.hdf5\n",
      "3/3 [==============================] - 0s 48ms/step - loss: 1.8793 - accuracy: 0.2740 - val_loss: 1.8398 - val_accuracy: 0.4672\n",
      "Epoch 20/1000\n",
      "1/3 [=========>....................] - ETA: 0s - loss: 1.8885 - accuracy: 0.2656\n",
      "Epoch 20: saving model to model/keypoint_classifier\\keypoint_classifier.hdf5\n",
      "3/3 [==============================] - 0s 53ms/step - loss: 1.8722 - accuracy: 0.2877 - val_loss: 1.8237 - val_accuracy: 0.4672\n",
      "Epoch 21/1000\n",
      "1/3 [=========>....................] - ETA: 0s - loss: 1.8725 - accuracy: 0.3281\n",
      "Epoch 21: saving model to model/keypoint_classifier\\keypoint_classifier.hdf5\n",
      "3/3 [==============================] - 0s 53ms/step - loss: 1.8533 - accuracy: 0.3041 - val_loss: 1.8067 - val_accuracy: 0.4508\n",
      "Epoch 22/1000\n",
      "1/3 [=========>....................] - ETA: 0s - loss: 1.8364 - accuracy: 0.3906\n",
      "Epoch 22: saving model to model/keypoint_classifier\\keypoint_classifier.hdf5\n",
      "3/3 [==============================] - 0s 55ms/step - loss: 1.8308 - accuracy: 0.3205 - val_loss: 1.7894 - val_accuracy: 0.4344\n",
      "Epoch 23/1000\n",
      "1/3 [=========>....................] - ETA: 0s - loss: 1.8197 - accuracy: 0.3828\n",
      "Epoch 23: saving model to model/keypoint_classifier\\keypoint_classifier.hdf5\n",
      "3/3 [==============================] - 0s 54ms/step - loss: 1.8164 - accuracy: 0.3589 - val_loss: 1.7724 - val_accuracy: 0.4508\n",
      "Epoch 24/1000\n",
      "1/3 [=========>....................] - ETA: 0s - loss: 1.8061 - accuracy: 0.3203\n",
      "Epoch 24: saving model to model/keypoint_classifier\\keypoint_classifier.hdf5\n",
      "3/3 [==============================] - 0s 52ms/step - loss: 1.8111 - accuracy: 0.3589 - val_loss: 1.7554 - val_accuracy: 0.4754\n",
      "Epoch 25/1000\n",
      "1/3 [=========>....................] - ETA: 0s - loss: 1.7589 - accuracy: 0.3359\n",
      "Epoch 25: saving model to model/keypoint_classifier\\keypoint_classifier.hdf5\n",
      "3/3 [==============================] - 0s 59ms/step - loss: 1.7829 - accuracy: 0.3315 - val_loss: 1.7392 - val_accuracy: 0.4672\n",
      "Epoch 26/1000\n",
      "1/3 [=========>....................] - ETA: 0s - loss: 1.7816 - accuracy: 0.3438\n",
      "Epoch 26: saving model to model/keypoint_classifier\\keypoint_classifier.hdf5\n",
      "3/3 [==============================] - 0s 54ms/step - loss: 1.7743 - accuracy: 0.3178 - val_loss: 1.7238 - val_accuracy: 0.4426\n",
      "Epoch 27/1000\n",
      "1/3 [=========>....................] - ETA: 0s - loss: 1.7328 - accuracy: 0.3906\n",
      "Epoch 27: saving model to model/keypoint_classifier\\keypoint_classifier.hdf5\n",
      "3/3 [==============================] - 0s 54ms/step - loss: 1.7559 - accuracy: 0.3534 - val_loss: 1.7086 - val_accuracy: 0.4262\n",
      "Epoch 28/1000\n",
      "1/3 [=========>....................] - ETA: 0s - loss: 1.7711 - accuracy: 0.3984\n",
      "Epoch 28: saving model to model/keypoint_classifier\\keypoint_classifier.hdf5\n"
     ]
    },
    {
     "name": "stdout",
     "output_type": "stream",
     "text": [
      "\b\b\b\b\b\b\b\b\b\b\b\b\b\b\b\b\b\b\b\b\b\b\b\b\b\b\b\b\b\b\b\b\b\b\b\b\b\b\b\b\b\b\b\b\b\b\b\b\b\b\b\b\b\b\b\b\b\b\b\b\b\b\b\b\b\b\b\b\b\b\b\b\b\b\b\b\b\b\b\b\r",
      "3/3 [==============================] - 0s 53ms/step - loss: 1.7379 - accuracy: 0.3836 - val_loss: 1.6934 - val_accuracy: 0.4262\n"
     ]
    }
   ],
   "source": [
    "model.fit(\n",
    "    X_train,\n",
    "    y_train,\n",
    "    epochs=1000,\n",
    "    batch_size=128,\n",
    "    validation_data=(X_test, y_test),\n",
    "    callbacks=[cp_callback, es_callback]\n",
    ")"
   ]
  },
  {
   "cell_type": "code",
   "execution_count": null,
   "metadata": {
    "colab": {
     "base_uri": "https://localhost:8080/"
    },
    "id": "pxvb2Y299hE3",
    "outputId": "59eb3185-2e37-4b9e-bc9d-ab1b8ac29b7f"
   },
   "outputs": [],
   "source": [
    "# Model evaluation\n",
    "val_loss, val_acc = model.evaluate(X_test, y_test, batch_size=128)"
   ]
  },
  {
   "cell_type": "code",
   "execution_count": null,
   "metadata": {
    "id": "RBkmDeUW9hE4"
   },
   "outputs": [],
   "source": [
    "# Loading the saved model\n",
    "model = tf.keras.models.load_model(model_save_path)"
   ]
  },
  {
   "cell_type": "code",
   "execution_count": null,
   "metadata": {
    "colab": {
     "base_uri": "https://localhost:8080/"
    },
    "id": "tFz9Tb0I9hE4",
    "outputId": "1c3b3528-54ae-4ee2-ab04-77429211cbef"
   },
   "outputs": [],
   "source": [
    "# Inference test\n",
    "predict_result = model.predict(np.array([X_test[0]]))\n",
    "print(np.squeeze(predict_result))\n",
    "print(np.argmax(np.squeeze(predict_result)))"
   ]
  },
  {
   "cell_type": "markdown",
   "metadata": {
    "id": "S3U4yNWx9hE4"
   },
   "source": [
    "# Confusion matrix"
   ]
  },
  {
   "cell_type": "code",
   "execution_count": null,
   "metadata": {
    "colab": {
     "base_uri": "https://localhost:8080/",
     "height": 582
    },
    "id": "AP1V6SCk9hE5",
    "outputId": "08e41a80-7a4a-4619-8125-ecc371368d19"
   },
   "outputs": [],
   "source": [
    "import pandas as pd\n",
    "import seaborn as sns\n",
    "import matplotlib.pyplot as plt\n",
    "from sklearn.metrics import confusion_matrix, classification_report\n",
    "\n",
    "def print_confusion_matrix(y_true, y_pred, report=True):\n",
    "    labels = sorted(list(set(y_true)))\n",
    "    cmx_data = confusion_matrix(y_true, y_pred, labels=labels)\n",
    "    \n",
    "    df_cmx = pd.DataFrame(cmx_data, index=labels, columns=labels)\n",
    " \n",
    "    fig, ax = plt.subplots(figsize=(7, 6))\n",
    "    sns.heatmap(df_cmx, annot=True, fmt='g' ,square=False)\n",
    "    ax.set_ylim(len(set(y_true)), 0)\n",
    "    plt.show()\n",
    "    \n",
    "    if report:\n",
    "        print('Classification Report')\n",
    "        print(classification_report(y_test, y_pred))\n",
    "\n",
    "Y_pred = model.predict(X_test)\n",
    "y_pred = np.argmax(Y_pred, axis=1)\n",
    "\n",
    "print_confusion_matrix(y_test, y_pred)"
   ]
  },
  {
   "cell_type": "markdown",
   "metadata": {
    "id": "FNP6aqzc9hE5"
   },
   "source": [
    "# Convert to model for Tensorflow-Lite"
   ]
  },
  {
   "cell_type": "code",
   "execution_count": null,
   "metadata": {
    "id": "ODjnYyld9hE6"
   },
   "outputs": [],
   "source": [
    "# Save as a model dedicated to inference\n",
    "model.save(model_save_path, include_optimizer=False)"
   ]
  },
  {
   "cell_type": "code",
   "execution_count": null,
   "metadata": {
    "colab": {
     "base_uri": "https://localhost:8080/"
    },
    "id": "zRfuK8Y59hE6",
    "outputId": "a4ca585c-b5d5-4244-8291-8674063209bb"
   },
   "outputs": [],
   "source": [
    "# Transform model (quantization)\n",
    "\n",
    "converter = tf.lite.TFLiteConverter.from_keras_model(model)\n",
    "converter.optimizations = [tf.lite.Optimize.DEFAULT]\n",
    "tflite_quantized_model = converter.convert()\n",
    "\n",
    "open(tflite_save_path, 'wb').write(tflite_quantized_model)"
   ]
  },
  {
   "cell_type": "markdown",
   "metadata": {
    "id": "CHBPBXdx9hE6"
   },
   "source": [
    "# Inference test"
   ]
  },
  {
   "cell_type": "code",
   "execution_count": null,
   "metadata": {
    "id": "mGAzLocO9hE7"
   },
   "outputs": [],
   "source": [
    "interpreter = tf.lite.Interpreter(model_path=tflite_save_path)\n",
    "interpreter.allocate_tensors()"
   ]
  },
  {
   "cell_type": "code",
   "execution_count": null,
   "metadata": {
    "id": "oQuDK8YS9hE7"
   },
   "outputs": [],
   "source": [
    "# Get I / O tensor\n",
    "input_details = interpreter.get_input_details()\n",
    "output_details = interpreter.get_output_details()"
   ]
  },
  {
   "cell_type": "code",
   "execution_count": null,
   "metadata": {
    "id": "2_ixAf_l9hE7"
   },
   "outputs": [],
   "source": [
    "interpreter.set_tensor(input_details[0]['index'], np.array([X_test[0]]))"
   ]
  },
  {
   "cell_type": "code",
   "execution_count": null,
   "metadata": {
    "colab": {
     "base_uri": "https://localhost:8080/"
    },
    "id": "s4FoAnuc9hE7",
    "outputId": "91f18257-8d8b-4ef3-c558-e9b5f94fabbf",
    "scrolled": true
   },
   "outputs": [],
   "source": [
    "%%time\n",
    "# Inference implementation\n",
    "interpreter.invoke()\n",
    "tflite_results = interpreter.get_tensor(output_details[0]['index'])"
   ]
  },
  {
   "cell_type": "code",
   "execution_count": null,
   "metadata": {
    "colab": {
     "base_uri": "https://localhost:8080/"
    },
    "id": "vONjp19J9hE8",
    "outputId": "77205e24-fd00-42c4-f7b6-e06e527c2cba"
   },
   "outputs": [],
   "source": [
    "print(np.squeeze(tflite_results))\n",
    "print(np.argmax(np.squeeze(tflite_results)))"
   ]
  },
  {
   "cell_type": "code",
   "execution_count": null,
   "metadata": {},
   "outputs": [],
   "source": []
  }
 ],
 "metadata": {
  "accelerator": "GPU",
  "colab": {
   "collapsed_sections": [],
   "name": "keypoint_classification_EN.ipynb",
   "provenance": [],
   "toc_visible": true
  },
  "kernelspec": {
   "display_name": "Python 3 (ipykernel)",
   "language": "python",
   "name": "python3"
  },
  "language_info": {
   "codemirror_mode": {
    "name": "ipython",
    "version": 3
   },
   "file_extension": ".py",
   "mimetype": "text/x-python",
   "name": "python",
   "nbconvert_exporter": "python",
   "pygments_lexer": "ipython3",
   "version": "3.10.4"
  }
 },
 "nbformat": 4,
 "nbformat_minor": 1
}
